{
 "cells": [
  {
   "cell_type": "markdown",
   "id": "72fcf91b",
   "metadata": {},
   "source": [
    "# This notebook is used to clean up the training dataset\n",
    "The original MNIST dataset contains obviously false labels in the train split. The number of the false labels is significant to the point when randomly generatd boards from train data often have duplicated and missing digits.\n",
    "The challenge to clean up the dataset comes from the difficulty in recognizing the false label. This notebook is designed to simplify the process of weeding out false labels by human annotator."
   ]
  },
  {
   "cell_type": "code",
   "execution_count": 1,
   "id": "d2e871be",
   "metadata": {},
   "outputs": [],
   "source": [
    "source_file = \"train.csv\""
   ]
  },
  {
   "cell_type": "code",
   "execution_count": 2,
   "id": "71baeb46",
   "metadata": {},
   "outputs": [],
   "source": [
    "import matplotlib.pyplot as plt\n",
    "%matplotlib inline\n",
    "import numpy as np\n",
    "import pandas as pd\n",
    "import random\n",
    "from PIL import Image"
   ]
  },
  {
   "cell_type": "code",
   "execution_count": 3,
   "id": "f14769eb",
   "metadata": {},
   "outputs": [],
   "source": [
    "def delete_row(index: int) -> None:\n",
    "    df = pd.read_csv(source_file)\n",
    "    df = df[df.iloc[:, 0] != index]\n",
    "    df.to_csv(source_file, index=False)\n",
    "\n",
    "def display_index(index: int):\n",
    "    df = pd.read_csv(source_file)\n",
    "    label = df[df.iloc[:, 0] == index][\"labels\"].to_numpy()[0]\n",
    "    image_path = df[df.iloc[:, 0] == index][\"image_paths\"].to_numpy()[0]\n",
    "\n",
    "    image = Image.open(image_path)\n",
    "    numpy_image = np.array(image)\n",
    "    print(label)\n",
    "    plt.imshow(numpy_image)"
   ]
  },
  {
   "cell_type": "code",
   "execution_count": 160,
   "id": "685a204a",
   "metadata": {},
   "outputs": [
    {
     "name": "stdout",
     "output_type": "stream",
     "text": [
      "Index 25974 has label:\n",
      "2\n"
     ]
    },
    {
     "data": {
      "image/png": "[encoded data removed]",
      "text/plain": [
       "<Figure size 640x480 with 1 Axes>"
      ]
     },
     "metadata": {},
     "output_type": "display_data"
    }
   ],
   "source": [
    "index = random.randint(0, 60000)\n",
    "print(f\"Index {index} has label:\")\n",
    "display_index(index)"
   ]
  },
  {
   "cell_type": "code",
   "execution_count": 159,
   "id": "02b2df52",
   "metadata": {},
   "outputs": [],
   "source": [
    "delete_row(7716)"
   ]
  },
  {
   "cell_type": "code",
   "execution_count": null,
   "id": "4dd58146",
   "metadata": {},
   "outputs": [],
   "source": [
    "5, "
   ]
  }
 ],
 "metadata": {
  "kernelspec": {
   "display_name": "Python 3 (ipykernel)",
   "language": "python",
   "name": "python3"
  },
  "language_info": {
   "codemirror_mode": {
    "name": "ipython",
    "version": 3
   },
   "file_extension": ".py",
   "mimetype": "text/x-python",
   "name": "python",
   "nbconvert_exporter": "python",
   "pygments_lexer": "ipython3",
   "version": "3.10.6"
  }
 },
 "nbformat": 4,
 "nbformat_minor": 5
}
